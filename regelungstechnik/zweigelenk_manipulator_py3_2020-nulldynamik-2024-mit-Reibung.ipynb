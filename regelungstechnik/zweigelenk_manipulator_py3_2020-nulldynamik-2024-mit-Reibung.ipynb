{
 "cells": [
  {
   "cell_type": "code",
   "execution_count": 1,
   "metadata": {},
   "outputs": [
    {
     "name": "stdout",
     "output_type": "stream",
     "text": [
      "Thu Mar 28 22:37:42 2024\n"
     ]
    }
   ],
   "source": [
    "import time\n",
    "print(time.ctime())"
   ]
  },
  {
   "cell_type": "markdown",
   "metadata": {},
   "source": [
    "<sub>Bei diesem IPython-Notebook handelt es sich um eine Beispiel-Rechnung als Ergänzung zur Dissertationsschrift von C. Knoll. Allgemeine Hinweise zu den Beispielen sind in der [readme.md-Datei des entsprechenden Repositoriums](https://github.com/cknoll/beispiele/blob/master/readme.md) zu finden.</sub>\n",
    "\n",
    "---"
   ]
  },
  {
   "cell_type": "markdown",
   "metadata": {},
   "source": [
    "[//]: # (custom_config_start)\n",
    "$$\n",
    "\\newcommand{\\col}{\\mathrm{col}}\n",
    "\\newcommand{\\opspan}{\\operatorname{span}}\n",
    "\\newcommand{\\bs}{\\boldsymbol}\n",
    "\\newcommand{\\mb}{\\mathbf}\n",
    "\\newcommand{\\nx}{n_{\\boldsymbol x}}\n",
    "\\newcommand{\\Ddt}{\\left(\\tfrac{d}{dt}\\right)}\n",
    "$$\n",
    "\n",
    "[//]: # (custom_config_end)\n",
    "\n",
    "**Betrachtetes System**: unteraktuierten Zweigelenkmanipulator.<br>\n",
    "\n",
    "<img src=\"files/images/manipulator_def2.png\">\n",
    "\n",
    "**Betrachtete Fragen**:\n",
    "* Herleitung der Modellgleichungen\n",
    " * Zustandsdarstellung zum Eingang $\\bs \\tau$\n",
    " * partiell linearisiert\n",
    " * LBI-NF \n",
    "\n",
    "* Überprüfung verschiedener Steuerbarkeitsbedingungen\n",
    " * Steuerbarkeit der Linearisierung um eine Ruhelage !!\n",
    " * lokale Zugänglichkeit\n",
    " * starke lokale Zugänglichkeit\n"
   ]
  },
  {
   "cell_type": "code",
   "execution_count": 2,
   "metadata": {},
   "outputs": [],
   "source": [
    "%load_ext ipydex.displaytools\n",
    "\n",
    "import sympy as sp\n",
    "from sympy import sin, cos, pi\n",
    "from sympy.interactive import printing\n",
    "import symbtools as st\n",
    "import symbtools.modeltools as mt\n",
    "from symbtools.modeltools import Rz # Rotationsmatrix\n",
    "import ipydex\n",
    "\n",
    "\n",
    "printing.init_printing(1)"
   ]
  },
  {
   "cell_type": "code",
   "execution_count": 3,
   "metadata": {},
   "outputs": [
    {
     "data": {
      "image/png": "[encoded data removed]",
      "text/latex": [
       "ttheta.T := $\\displaystyle \\left[\\begin{matrix}p_{1} & q_{1}\\end{matrix}\\right]$"
      ],
      "text/plain": [
       "ttheta.T := [p₁  q₁]"
      ]
     },
     "metadata": {},
     "output_type": "display_data"
    },
    {
     "data": {
      "text/plain": [
       "---"
      ]
     },
     "metadata": {},
     "output_type": "display_data"
    },
    {
     "data": {
      "image/png": "[encoded data removed]",
      "text/latex": [
       "tthetad.T := $\\displaystyle \\left[\\begin{matrix}\\dot{p}_{1} & \\dot{q}_{1}\\end{matrix}\\right]$"
      ],
      "text/plain": [
       "tthetad.T := [ṗ₁  q̇₁]"
      ]
     },
     "metadata": {},
     "output_type": "display_data"
    },
    {
     "data": {
      "text/plain": [
       "---"
      ]
     },
     "metadata": {},
     "output_type": "display_data"
    },
    {
     "data": {
      "image/png": "[encoded data removed]",
      "text/latex": [
       "tthetadd.T := $\\displaystyle \\left[\\begin{matrix}\\ddot{p}_{1} & \\ddot{q}_{1}\\end{matrix}\\right]$"
      ],
      "text/plain": [
       "tthetadd.T := [p̈₁  q̈₁]"
      ]
     },
     "metadata": {},
     "output_type": "display_data"
    },
    {
     "data": {
      "text/plain": [
       "---"
      ]
     },
     "metadata": {},
     "output_type": "display_data"
    }
   ],
   "source": [
    "t = sp.Symbol('t')\n",
    "np = 1\n",
    "nq = 1\n",
    "n = np + nq\n",
    "pp = st.symb_vector(\"p1:{0}\".format(np+1))\n",
    "qq = st.symb_vector(\"q1:{0}\".format(nq+1))\n",
    "\n",
    "\n",
    "aa = st.symb_vector(\"a1:{0}\".format(nq+1))\n",
    "\n",
    "ttheta = st.row_stack(pp, qq) ##:T\n",
    "tthetad = st.time_deriv(ttheta, ttheta) ##:T\n",
    "tthetadd = st.time_deriv(ttheta, ttheta, order=2) ##:T\n",
    "st.make_global(ttheta, tthetad)"
   ]
  },
  {
   "cell_type": "code",
   "execution_count": 4,
   "metadata": {},
   "outputs": [],
   "source": [
    "params = sp.symbols('s1, s2, m1, m2, J1, J2, l1, kappa')\n",
    "st.make_global(params)\n",
    "\n",
    "tau1, tau2 = ttau = st.symb_vector(\"tau1, tau2\")"
   ]
  },
  {
   "cell_type": "markdown",
   "metadata": {},
   "source": [
    "### Festlegung der Geometrie des mechanischen Systemes"
   ]
  },
  {
   "cell_type": "code",
   "execution_count": 5,
   "metadata": {},
   "outputs": [
    {
     "data": {
      "image/png": "[encoded data removed]",
      "text/latex": [
       "$\\displaystyle \\left[\\begin{matrix}\\cos{\\left(q_{1} \\right)} & - \\sin{\\left(q_{1} \\right)}\\\\\\sin{\\left(q_{1} \\right)} & \\cos{\\left(q_{1} \\right)}\\end{matrix}\\right]$"
      ],
      "text/plain": [
       "⎡cos(q₁)  -sin(q₁)⎤\n",
       "⎢                 ⎥\n",
       "⎣sin(q₁)  cos(q₁) ⎦"
      ]
     },
     "execution_count": 5,
     "metadata": {},
     "output_type": "execute_result"
    }
   ],
   "source": [
    "Rz(q1) # Rotationsmatirx"
   ]
  },
  {
   "cell_type": "code",
   "execution_count": 6,
   "metadata": {},
   "outputs": [],
   "source": [
    "#Einheitsvektoren\n",
    "\n",
    "ex = sp.Matrix([1, 0])\n",
    "ey = sp.Matrix([0, 1])\n",
    "\n",
    "# Koordinaten der Schwerpunkte und Gelenke\n",
    "S1 = Rz(q1)*ex*s1\n",
    "G1 = Rz(q1)*ex*l1 # \"Elllenbogengelenk\"\n",
    "S2 = G1 + Rz(q1 + p1)*ex*s2\n",
    "\n",
    "\n",
    "# Zeitableitungen der Schwerpunktskoordinaten\n",
    "Sd1, Sd2 = st.col_split(st.time_deriv(st.col_stack(S1, S2), ttheta)) ##"
   ]
  },
  {
   "cell_type": "code",
   "execution_count": 7,
   "metadata": {},
   "outputs": [
    {
     "data": {
      "image/png": "[encoded data removed]",
      "text/latex": [
       "T := $\\displaystyle \\frac{J_{1} \\dot{q}_{1}^{2}}{2} + \\frac{J_{2} \\left(\\dot{p}_{1} + \\dot{q}_{1}\\right)^{2}}{2} + \\frac{m_{1} \\dot{q}_{1}^{2} s_{1}^{2} \\sin^{2}{\\left(q_{1} \\right)}}{2} + \\frac{m_{1} \\dot{q}_{1}^{2} s_{1}^{2} \\cos^{2}{\\left(q_{1} \\right)}}{2} + \\frac{m_{2} \\left(- l_{1} \\dot{q}_{1} \\sin{\\left(q_{1} \\right)} - s_{2} \\left(\\dot{p}_{1} + \\dot{q}_{1}\\right) \\sin{\\left(p_{1} + q_{1} \\right)}\\right)^{2}}{2} + \\frac{m_{2} \\left(l_{1} \\dot{q}_{1} \\cos{\\left(q_{1} \\right)} + s_{2} \\left(\\dot{p}_{1} + \\dot{q}_{1}\\right) \\cos{\\left(p_{1} + q_{1} \\right)}\\right)^{2}}{2}$"
      ],
      "text/plain": [
       "T :=      2               2        2   2    2            2   2    2                \n",
       "J₁⋅q̇₁    J₂⋅(ṗ₁ + q̇₁)    m₁⋅q̇₁ ⋅s₁ ⋅sin (q₁)   m₁⋅q̇₁ ⋅s₁ ⋅cos (q₁)   m₂⋅(\n",
       "────── + ───────────── + ─────────────────── + ─────────────────── + ─────────\n",
       "  2            2                  2                     2                     \n",
       "\n",
       "                                      2                                       \n",
       "-l₁⋅q̇₁⋅sin(q₁) - s₂⋅(ṗ₁ + q̇₁)⋅sin(p₁ + q₁))    m₂⋅(l₁⋅q̇₁⋅cos(q₁) + s₂⋅(ṗ₁\n",
       "─────────────────────────────────────── + ────────────────────────────────────\n",
       "              2                                                  2            \n",
       "\n",
       "          2\n",
       " + q̇₁)⋅cos(p₁ + q₁)) \n",
       "───────────\n",
       "           "
      ]
     },
     "metadata": {},
     "output_type": "display_data"
    },
    {
     "data": {
      "text/plain": [
       "---"
      ]
     },
     "metadata": {},
     "output_type": "display_data"
    }
   ],
   "source": [
    "# Kinetische Energie\n",
    "T_rot = (J1*qdot1**2)/2 + (J2*(qdot1 + pdot1)**2)/2\n",
    "T_trans = ( m1*Sd1.T*Sd1  +  m2*Sd2.T*Sd2 )/2\n",
    "\n",
    "T = T_rot + T_trans[0] ##:\n",
    "\n",
    "# Potentielle Energie\n",
    "V = 0"
   ]
  },
  {
   "cell_type": "code",
   "execution_count": 8,
   "metadata": {},
   "outputs": [],
   "source": [
    "# Kinetische Energie mit Platzhaltersymbolen einführen:\n",
    "\n",
    "M1, M2, M3 = MM = st.symb_vector('M1:4')\n",
    "MM_subs = [(J1 + m1*s1**2 + m2*l1**2, M1), (J2 + m2*s2**2, M2), (m2*l1*s2, M3)]\n",
    "MM_rplm = st.rev_tuple(MM_subs) # Umkehrung der inneren Tupel -> [(M1, J1+... ), ...]\n",
    "\n",
    "T_plh = M1*qdot1**2/2 + M2*pdot1**2/2 + M2*pdot1*qdot1 + M2*qdot1**2/2 + M3*pdot1*qdot1*cos(p1) + M3*qdot1**2*cos(p1)\n",
    "\n",
    "# Probe:\n",
    "assert sp.simplify(T_plh.subs(MM_rplm) - T) == 0"
   ]
  },
  {
   "cell_type": "code",
   "execution_count": 9,
   "metadata": {},
   "outputs": [],
   "source": [
    "# neu: tau2 nutzen um später Reibung zu modellieren\n",
    "\n",
    "\n",
    "external_forces = [tau2, tau1]\n",
    "# assert not any(external_forces[:np])\n",
    "mod = mt.generate_symbolic_model(T_plh, V, ttheta, external_forces)"
   ]
  },
  {
   "cell_type": "code",
   "execution_count": 10,
   "metadata": {},
   "outputs": [
    {
     "data": {
      "image/png": "[encoded data removed]",
      "text/latex": [
       "$\\displaystyle \\left[\\begin{matrix}M_{2} \\ddot{p}_{1} + M_{2} \\ddot{q}_{1} + M_{3} \\ddot{q}_{1} \\cos{\\left(p_{1} \\right)} + M_{3} \\dot{q}_{1}^{2} \\sin{\\left(p_{1} \\right)} - \\tau_{2}\\\\M_{1} \\ddot{q}_{1} + M_{2} \\ddot{p}_{1} + M_{2} \\ddot{q}_{1} + M_{3} \\ddot{p}_{1} \\cos{\\left(p_{1} \\right)} - M_{3} \\dot{p}_{1}^{2} \\sin{\\left(p_{1} \\right)} - 2 M_{3} \\dot{p}_{1} \\dot{q}_{1} \\sin{\\left(p_{1} \\right)} + 2 M_{3} \\ddot{q}_{1} \\cos{\\left(p_{1} \\right)} - \\tau_{1}\\end{matrix}\\right]$"
      ],
      "text/plain": [
       "⎡                                                            2                \n",
       "⎢                       M₂⋅p̈₁ + M₂⋅q̈₁ + M₃⋅q̈₁⋅cos(p₁) + M₃⋅q̇₁ ⋅sin(p₁) - τ\n",
       "⎢                                                                             \n",
       "⎢                                             2                               \n",
       "⎣M₁⋅q̈₁ + M₂⋅p̈₁ + M₂⋅q̈₁ + M₃⋅p̈₁⋅cos(p₁) - M₃⋅ṗ₁ ⋅sin(p₁) - 2⋅M₃⋅ṗ₁⋅q̇₁⋅si\n",
       "\n",
       "                     ⎤\n",
       "₂                        ⎥\n",
       "                     ⎥\n",
       "                     ⎥\n",
       "n(p₁) + 2⋅M₃⋅q̈₁⋅cos(p₁) - τ₁⎦"
      ]
     },
     "execution_count": 10,
     "metadata": {},
     "output_type": "execute_result"
    }
   ],
   "source": [
    "mod.eqns "
   ]
  },
  {
   "cell_type": "code",
   "execution_count": 11,
   "metadata": {},
   "outputs": [
    {
     "data": {
      "image/png": "[encoded data removed]",
      "text/latex": [
       "(mod.eqns) := $\\displaystyle \\left[\\begin{matrix}M_{2} \\ddot{p}_{1} + M_{2} \\ddot{q}_{1} + M_{3} \\ddot{q}_{1} \\cos{\\left(p_{1} \\right)} + M_{3} \\dot{q}_{1}^{2} \\sin{\\left(p_{1} \\right)} + d_{1} \\dot{q}_{1}\\\\M_{1} \\ddot{q}_{1} + M_{2} \\ddot{p}_{1} + M_{2} \\ddot{q}_{1} + M_{3} \\ddot{p}_{1} \\cos{\\left(p_{1} \\right)} - M_{3} \\dot{p}_{1}^{2} \\sin{\\left(p_{1} \\right)} - 2 M_{3} \\dot{p}_{1} \\dot{q}_{1} \\sin{\\left(p_{1} \\right)} + 2 M_{3} \\ddot{q}_{1} \\cos{\\left(p_{1} \\right)} - \\tau_{1}\\end{matrix}\\right]$"
      ],
      "text/plain": [
       "(mod.eqns) := ⎡                                                           2                 \n",
       "⎢                      M₂⋅p̈₁ + M₂⋅q̈₁ + M₃⋅q̈₁⋅cos(p₁) + M₃⋅q̇₁ ⋅sin(p₁) + d₁\n",
       "⎢                                                                             \n",
       "⎢                                             2                               \n",
       "⎣M₁⋅q̈₁ + M₂⋅p̈₁ + M₂⋅q̈₁ + M₃⋅p̈₁⋅cos(p₁) - M₃⋅ṗ₁ ⋅sin(p₁) - 2⋅M₃⋅ṗ₁⋅q̇₁⋅si\n",
       "\n",
       "                     ⎤\n",
       "⋅q̇₁                      ⎥\n",
       "                     ⎥\n",
       "                     ⎥\n",
       "n(p₁) + 2⋅M₃⋅q̈₁⋅cos(p₁) - τ₁⎦"
      ]
     },
     "metadata": {},
     "output_type": "display_data"
    },
    {
     "data": {
      "text/plain": [
       "---"
      ]
     },
     "metadata": {},
     "output_type": "display_data"
    }
   ],
   "source": [
    "# Reibung einführen:\n",
    "d1 = sp.Symbol(\"d1\")\n",
    "mod.eqns = mod.eqns.subs(tau2, - qdot1*d1) ##:\n",
    "mod.tau = sp.Matrix([tau1])"
   ]
  },
  {
   "cell_type": "markdown",
   "metadata": {},
   "source": [
    "### Verschiedene Zustandsdarstellungen\n",
    "#### Vektorfelder der Zustandsdarstellung mit Eingang $\\bs \\tau$"
   ]
  },
  {
   "cell_type": "code",
   "execution_count": 12,
   "metadata": {},
   "outputs": [],
   "source": [
    "mod.calc_state_eq()"
   ]
  },
  {
   "cell_type": "code",
   "execution_count": 13,
   "metadata": {},
   "outputs": [],
   "source": [
    "# Symbole für Geschwindigkeiten\n",
    "tthetad_replm = zip(tthetad, st.symb_vector('u1, v1'))"
   ]
  },
  {
   "cell_type": "code",
   "execution_count": 14,
   "metadata": {},
   "outputs": [
    {
     "data": {
      "image/png": "[encoded data removed]",
      "text/latex": [
       "f := $\\displaystyle \\left[\\begin{matrix}u_{1}\\\\v_{1}\\\\\\frac{- M_{3} u_{1} \\left(M_{2} + M_{3} \\cos{\\left(p_{1} \\right)}\\right) \\left(u_{1} + 2 v_{1}\\right) \\sin{\\left(p_{1} \\right)} - v_{1} \\left(M_{3} v_{1} \\sin{\\left(p_{1} \\right)} + d_{1}\\right) \\left(M_{1} + M_{2} + 2 M_{3} \\cos{\\left(p_{1} \\right)}\\right)}{M_{1} M_{2} - M_{3}^{2} \\cos^{2}{\\left(p_{1} \\right)}}\\\\\\frac{M_{2} M_{3} u_{1} \\left(u_{1} + 2 v_{1}\\right) \\sin{\\left(p_{1} \\right)} + v_{1} \\left(M_{2} + M_{3} \\cos{\\left(p_{1} \\right)}\\right) \\left(M_{3} v_{1} \\sin{\\left(p_{1} \\right)} + d_{1}\\right)}{M_{1} M_{2} - M_{3}^{2} \\cos^{2}{\\left(p_{1} \\right)}}\\end{matrix}\\right]$"
      ],
      "text/plain": [
       "f := ⎡                                              u₁                             \n",
       "⎢                                                                             \n",
       "⎢                                              v₁                             \n",
       "⎢                                                                             \n",
       "⎢-M₃⋅u₁⋅(M₂ + M₃⋅cos(p₁))⋅(u₁ + 2⋅v₁)⋅sin(p₁) - v₁⋅(M₃⋅v₁⋅sin(p₁) + d₁)⋅(M₁ + \n",
       "⎢─────────────────────────────────────────────────────────────────────────────\n",
       "⎢                                                2    2                       \n",
       "⎢                                      M₁⋅M₂ - M₃ ⋅cos (p₁)                   \n",
       "⎢                                                                             \n",
       "⎢           M₂⋅M₃⋅u₁⋅(u₁ + 2⋅v₁)⋅sin(p₁) + v₁⋅(M₂ + M₃⋅cos(p₁))⋅(M₃⋅v₁⋅sin(p₁)\n",
       "⎢           ──────────────────────────────────────────────────────────────────\n",
       "⎢                                               2    2                        \n",
       "⎣                                     M₁⋅M₂ - M₃ ⋅cos (p₁)                    \n",
       "\n",
       "                  ⎤\n",
       "                  ⎥\n",
       "                  ⎥\n",
       "                  ⎥\n",
       "M₂ + 2⋅M₃⋅cos(p₁))⎥\n",
       "──────────────────⎥\n",
       "                  ⎥\n",
       "                  ⎥\n",
       "                  ⎥\n",
       " + d₁)            ⎥\n",
       "──────            ⎥\n",
       "                  ⎥\n",
       "                  ⎦"
      ]
     },
     "metadata": {},
     "output_type": "display_data"
    },
    {
     "data": {
      "text/plain": [
       "---"
      ]
     },
     "metadata": {},
     "output_type": "display_data"
    },
    {
     "data": {
      "image/png": "[encoded data removed]",
      "text/latex": [
       "g := $\\displaystyle \\left[\\begin{matrix}0\\\\0\\\\- \\frac{M_{2} + M_{3} \\cos{\\left(p_{1} \\right)}}{M_{1} M_{2} - M_{3}^{2} \\cos^{2}{\\left(p_{1} \\right)}}\\\\\\frac{M_{2}}{M_{1} M_{2} - M_{3}^{2} \\cos^{2}{\\left(p_{1} \\right)}}\\end{matrix}\\right]$"
      ],
      "text/plain": [
       "g := ⎡         0          ⎤\n",
       "⎢                    ⎥\n",
       "⎢         0          ⎥\n",
       "⎢                    ⎥\n",
       "⎢-(M₂ + M₃⋅cos(p₁))  ⎥\n",
       "⎢────────────────────⎥\n",
       "⎢          2    2    ⎥\n",
       "⎢M₁⋅M₂ - M₃ ⋅cos (p₁)⎥\n",
       "⎢                    ⎥\n",
       "⎢         M₂         ⎥\n",
       "⎢────────────────────⎥\n",
       "⎢          2    2    ⎥\n",
       "⎣M₁⋅M₂ - M₃ ⋅cos (p₁)⎦"
      ]
     },
     "metadata": {},
     "output_type": "display_data"
    },
    {
     "data": {
      "text/plain": [
       "---"
      ]
     },
     "metadata": {},
     "output_type": "display_data"
    }
   ],
   "source": [
    "f = mod.f.subs(tthetad_replm) ##:\n",
    "g = mod.g.subs(tthetad_replm) ##:"
   ]
  },
  {
   "cell_type": "code",
   "execution_count": 15,
   "metadata": {},
   "outputs": [
    {
     "data": {
      "image/png": "[encoded data removed]",
      "text/latex": [
       "xx.T := $\\displaystyle \\left[\\begin{matrix}p_{1} & q_{1} & \\dot{p}_{1} & \\dot{q}_{1}\\end{matrix}\\right]$"
      ],
      "text/plain": [
       "xx.T := [p₁  q₁  ṗ₁  q̇₁]"
      ]
     },
     "metadata": {},
     "output_type": "display_data"
    },
    {
     "data": {
      "text/plain": [
       "---"
      ]
     },
     "metadata": {},
     "output_type": "display_data"
    }
   ],
   "source": [
    "# Zustandsvektor\n",
    "xx = mod.xx ##:T"
   ]
  },
  {
   "cell_type": "markdown",
   "metadata": {},
   "source": [
    "#### Vektorfelder der kollokierten partiellen Linearisierung"
   ]
  },
  {
   "cell_type": "code",
   "execution_count": 16,
   "metadata": {},
   "outputs": [],
   "source": [
    "def failing_function():\n",
    "    mod.calc_coll_part_lin_state_eq()"
   ]
  },
  {
   "cell_type": "code",
   "execution_count": 17,
   "metadata": {},
   "outputs": [
    {
     "data": {
      "image/png": "[encoded data removed]",
      "text/latex": [
       "ff := $\\displaystyle \\left[\\begin{matrix}\\dot{p}_{1}\\\\\\dot{q}_{1}\\\\- \\frac{\\dot{q}_{1} \\left(M_{3} \\dot{q}_{1} \\sin{\\left(p_{1} \\right)} + d_{1}\\right)}{M_{2}}\\\\0\\end{matrix}\\right]$"
      ],
      "text/plain": [
       "ff := ⎡           ṗ₁            ⎤\n",
       "⎢                         ⎥\n",
       "⎢           q̇₁            ⎥\n",
       "⎢                         ⎥\n",
       "⎢-q̇₁⋅(M₃⋅q̇₁⋅sin(p₁) + d₁) ⎥\n",
       "⎢─────────────────────────⎥\n",
       "⎢            M₂           ⎥\n",
       "⎢                         ⎥\n",
       "⎣            0            ⎦"
      ]
     },
     "metadata": {},
     "output_type": "display_data"
    },
    {
     "data": {
      "text/plain": [
       "---"
      ]
     },
     "metadata": {},
     "output_type": "display_data"
    },
    {
     "data": {
      "image/png": "[encoded data removed]",
      "text/latex": [
       "$\\displaystyle \\left[\\begin{matrix}0\\\\0\\\\- \\kappa \\cos{\\left(p_{1} \\right)} - 1\\\\1\\end{matrix}\\right]$"
      ],
      "text/plain": [
       "⎡      0       ⎤\n",
       "⎢              ⎥\n",
       "⎢      0       ⎥\n",
       "⎢              ⎥\n",
       "⎢-κ⋅cos(p₁) - 1⎥\n",
       "⎢              ⎥\n",
       "⎣      1       ⎦"
      ]
     },
     "execution_count": 17,
     "metadata": {},
     "output_type": "execute_result"
    }
   ],
   "source": [
    "mod.calc_coll_part_lin_state_eq()\n",
    "kappa_subs = M3/M2 # l1*s2*m2/(J2+m2*s2**2)\n",
    "\n",
    "ff = mod.ff.subs(kappa_subs, kappa) ##:\n",
    "gg = mod.gg.expand().subs(kappa_subs, kappa)\n",
    "gg ##"
   ]
  },
  {
   "cell_type": "markdown",
   "metadata": {},
   "source": [
    "## Umrechnen auf-nicht kollokierte partielle Linearisierung \n",
    "\n",
    "Ausgang: passives Gelenk, also $y:= p_1$, $\\ddot y =: v_2$"
   ]
  },
  {
   "cell_type": "code",
   "execution_count": 18,
   "metadata": {},
   "outputs": [],
   "source": [
    "v2 = sp.Symbol(\"v2\")"
   ]
  },
  {
   "cell_type": "code",
   "execution_count": 19,
   "metadata": {},
   "outputs": [
    {
     "data": {
      "image/png": "[encoded data removed]",
      "text/latex": [
       "v1 := $\\displaystyle \\frac{v_{2} + \\frac{\\dot{q}_{1} \\left(M_{3} \\dot{q}_{1} \\sin{\\left(p_{1} \\right)} + d_{1}\\right)}{M_{2}}}{- \\kappa \\cos{\\left(p_{1} \\right)} - 1}$"
      ],
      "text/plain": [
       "v1 :=      q̇₁⋅(M₃⋅q̇₁⋅sin(p₁) + d₁)\n",
       "v₂ + ───────────────────────\n",
       "                M₂          \n",
       "────────────────────────────\n",
       "       -κ⋅cos(p₁) - 1       "
      ]
     },
     "metadata": {},
     "output_type": "display_data"
    },
    {
     "data": {
      "text/plain": [
       "---"
      ]
     },
     "metadata": {},
     "output_type": "display_data"
    }
   ],
   "source": [
    "# Eingangstransformation\n",
    "\n",
    "v1 = 1/gg[2] *(- ff[2] + v2) ##:"
   ]
  },
  {
   "cell_type": "code",
   "execution_count": 20,
   "metadata": {},
   "outputs": [
    {
     "data": {
      "image/png": "[encoded data removed]",
      "text/latex": [
       "ode_new := $\\displaystyle \\left[\\begin{matrix}\\dot{p}_{1}\\\\\\dot{q}_{1}\\\\v_{2}\\\\\\frac{M_{3} \\dot{q}_{1}^{2} \\sin{\\left(p_{1} \\right)}}{- M_{2} - M_{3} \\cos{\\left(p_{1} \\right)}} + \\frac{d_{1} \\dot{q}_{1}}{- M_{2} - M_{3} \\cos{\\left(p_{1} \\right)}} + \\frac{v_{2}}{-1 - \\frac{M_{3} \\cos{\\left(p_{1} \\right)}}{M_{2}}}\\end{matrix}\\right]$"
      ],
      "text/plain": [
       "ode_new := ⎡                         ṗ₁                          ⎤\n",
       "⎢                                                     ⎥\n",
       "⎢                         q̇₁                          ⎥\n",
       "⎢                                                     ⎥\n",
       "⎢                         v₂                          ⎥\n",
       "⎢                                                     ⎥\n",
       "⎢       2                                             ⎥\n",
       "⎢M₃⋅q̇₁ ⋅sin(p₁)         d₁⋅q̇₁               v₂      ⎥\n",
       "⎢──────────────── + ──────────────── + ───────────────⎥\n",
       "⎢-M₂ - M₃⋅cos(p₁)   -M₂ - M₃⋅cos(p₁)        M₃⋅cos(p₁)⎥\n",
       "⎢                                      -1 - ──────────⎥\n",
       "⎣                                               M₂    ⎦"
      ]
     },
     "metadata": {},
     "output_type": "display_data"
    },
    {
     "data": {
      "text/plain": [
       "---"
      ]
     },
     "metadata": {},
     "output_type": "display_data"
    },
    {
     "data": {
      "image/png": "[encoded data removed]",
      "text/latex": [
       "ff2 := $\\displaystyle \\left[\\begin{matrix}\\dot{p}_{1}\\\\\\dot{q}_{1}\\\\0\\\\\\frac{M_{3} \\dot{q}_{1}^{2} \\sin{\\left(p_{1} \\right)}}{- M_{2} - M_{3} \\cos{\\left(p_{1} \\right)}} + \\frac{d_{1} \\dot{q}_{1}}{- M_{2} - M_{3} \\cos{\\left(p_{1} \\right)}}\\end{matrix}\\right]$"
      ],
      "text/plain": [
       "ff2 := ⎡                ṗ₁                 ⎤\n",
       "⎢                                   ⎥\n",
       "⎢                q̇₁                 ⎥\n",
       "⎢                                   ⎥\n",
       "⎢                 0                 ⎥\n",
       "⎢                                   ⎥\n",
       "⎢       2                           ⎥\n",
       "⎢M₃⋅q̇₁ ⋅sin(p₁)         d₁⋅q̇₁     ⎥\n",
       "⎢──────────────── + ────────────────⎥\n",
       "⎣-M₂ - M₃⋅cos(p₁)   -M₂ - M₃⋅cos(p₁)⎦"
      ]
     },
     "metadata": {},
     "output_type": "display_data"
    },
    {
     "data": {
      "text/plain": [
       "---"
      ]
     },
     "metadata": {},
     "output_type": "display_data"
    },
    {
     "data": {
      "image/png": "[encoded data removed]",
      "text/latex": [
       "gg2 := $\\displaystyle \\left[\\begin{matrix}0\\\\0\\\\1\\\\\\frac{1}{-1 - \\frac{M_{3} \\cos{\\left(p_{1} \\right)}}{M_{2}}}\\end{matrix}\\right]$"
      ],
      "text/plain": [
       "gg2 := ⎡       0       ⎤\n",
       "⎢               ⎥\n",
       "⎢       0       ⎥\n",
       "⎢               ⎥\n",
       "⎢       1       ⎥\n",
       "⎢               ⎥\n",
       "⎢       1       ⎥\n",
       "⎢───────────────⎥\n",
       "⎢     M₃⋅cos(p₁)⎥\n",
       "⎢-1 - ──────────⎥\n",
       "⎣         M₂    ⎦"
      ]
     },
     "metadata": {},
     "output_type": "display_data"
    },
    {
     "data": {
      "text/plain": [
       "---"
      ]
     },
     "metadata": {},
     "output_type": "display_data"
    }
   ],
   "source": [
    "ode_new = (ff + gg*v1).expand().subs(kappa, M3/M2) ##:\n",
    "\n",
    "ff2 = ode_new.subs(v2, 0) ##:\n",
    "gg2 = ode_new.diff(v2) ##:\n",
    "\n",
    "\n",
    "\n"
   ]
  },
  {
   "cell_type": "code",
   "execution_count": 21,
   "metadata": {},
   "outputs": [
    {
     "data": {
      "image/png": "[encoded data removed]",
      "text/latex": [
       "$\\displaystyle \\left[\\begin{matrix}\\dot{p}_{1}\\\\\\dot{q}_{1}\\\\0\\\\- \\frac{\\kappa \\dot{q}_{1}^{2} \\sin{\\left(p_{1} \\right)}}{\\kappa \\cos{\\left(p_{1} \\right)} + 1}\\end{matrix}\\right]$"
      ],
      "text/plain": [
       "⎡      ṗ₁       ⎤\n",
       "⎢               ⎥\n",
       "⎢      q̇₁       ⎥\n",
       "⎢               ⎥\n",
       "⎢       0       ⎥\n",
       "⎢               ⎥\n",
       "⎢     2         ⎥\n",
       "⎢-κ⋅q̇₁ ⋅sin(p₁) ⎥\n",
       "⎢───────────────⎥\n",
       "⎣ κ⋅cos(p₁) + 1 ⎦"
      ]
     },
     "execution_count": 21,
     "metadata": {},
     "output_type": "execute_result"
    }
   ],
   "source": [
    "# Vergleich mit reibungsfreier Darstellung in Diplomarbeit (Knoll 2009) (mit Notation kappa := eta)\n",
    "ff2.subs([(d1, 0), (M3, kappa*M2)]).smplf"
   ]
  },
  {
   "cell_type": "markdown",
   "metadata": {},
   "source": [
    "### Untersuchung der Nulldynamik\n",
    "\n",
    "linearer Teil: $p_1$ soll konstant sein → $v_2 = 0$"
   ]
  },
  {
   "cell_type": "code",
   "execution_count": 22,
   "metadata": {},
   "outputs": [
    {
     "data": {
      "image/png": "[encoded data removed]",
      "text/latex": [
       "ff_nd := $\\displaystyle \\left[\\begin{matrix}\\dot{q}_{1}\\\\\\frac{M_{3} \\dot{q}_{1}^{2} \\sin{\\left(p_{1} \\right)}}{- M_{2} - M_{3} \\cos{\\left(p_{1} \\right)}} + \\frac{d_{1} \\dot{q}_{1}}{- M_{2} - M_{3} \\cos{\\left(p_{1} \\right)}}\\end{matrix}\\right]$"
      ],
      "text/plain": [
       "ff_nd := ⎡                q̇₁                 ⎤\n",
       "⎢                                   ⎥\n",
       "⎢       2                           ⎥\n",
       "⎢M₃⋅q̇₁ ⋅sin(p₁)         d₁⋅q̇₁     ⎥\n",
       "⎢──────────────── + ────────────────⎥\n",
       "⎣-M₂ - M₃⋅cos(p₁)   -M₂ - M₃⋅cos(p₁)⎦"
      ]
     },
     "metadata": {},
     "output_type": "display_data"
    },
    {
     "data": {
      "text/plain": [
       "---"
      ]
     },
     "metadata": {},
     "output_type": "display_data"
    }
   ],
   "source": [
    "ff_nd = sp.Matrix([ff2[1], ff2[3]]) ##:"
   ]
  },
  {
   "cell_type": "code",
   "execution_count": 23,
   "metadata": {},
   "outputs": [
    {
     "data": {
      "image/png": "[encoded data removed]",
      "text/latex": [
       "jac_nd := $\\displaystyle \\left[\\begin{matrix}0 & 1\\\\0 & \\frac{d_{1}}{- M_{2} - M_{3} \\cos{\\left(p_{1} \\right)}}\\end{matrix}\\right]$"
      ],
      "text/plain": [
       "jac_nd := ⎡0         1        ⎤\n",
       "⎢                   ⎥\n",
       "⎢          d₁       ⎥\n",
       "⎢0  ────────────────⎥\n",
       "⎣   -M₂ - M₃⋅cos(p₁)⎦"
      ]
     },
     "metadata": {},
     "output_type": "display_data"
    },
    {
     "data": {
      "text/plain": [
       "---"
      ]
     },
     "metadata": {},
     "output_type": "display_data"
    }
   ],
   "source": [
    "# Linearisierung: Ableiten nach Zustandskomponenten der Nulldynamik und Nullsetzen\n",
    "\n",
    "jac_nd = ff_nd.jacobian([q1, qdot1]).subz0([q1, qdot1]) ##:\n"
   ]
  },
  {
   "cell_type": "code",
   "execution_count": 24,
   "metadata": {},
   "outputs": [
    {
     "data": {
      "image/png": "[encoded data removed]",
      "text/latex": [
       "$\\displaystyle \\left\\{ 0 : 1, \\  - \\frac{d_{1}}{M_{2} + M_{3} \\cos{\\left(p_{1} \\right)}} : 1\\right\\}$"
      ],
      "text/plain": [
       "⎧            -d₁         ⎫\n",
       "⎨0: 1, ───────────────: 1⎬\n",
       "⎩      M₂ + M₃⋅cos(p₁)   ⎭"
      ]
     },
     "execution_count": 24,
     "metadata": {},
     "output_type": "execute_result"
    }
   ],
   "source": [
    "jac_nd.eigenvals()"
   ]
  },
  {
   "cell_type": "markdown",
   "metadata": {},
   "source": [
    "**Fazit:** Ein Eigenwert is bei 0 der anderer hängt vom \"gennullten Ausgang $p_1$\" ab und könnte somit in die rechte Halbebene verschoben werden (für den Fall einer schwachen Trägheitskopplung, also $\\kappa > 1$). "
   ]
  }
 ],
 "metadata": {
  "kernelspec": {
   "display_name": "Python 3 (ipykernel)",
   "language": "python",
   "name": "python3"
  },
  "language_info": {
   "codemirror_mode": {
    "name": "ipython",
    "version": 3
   },
   "file_extension": ".py",
   "mimetype": "text/x-python",
   "name": "python",
   "nbconvert_exporter": "python",
   "pygments_lexer": "ipython3",
   "version": "3.11.4"
  }
 },
 "nbformat": 4,
 "nbformat_minor": 1
}
