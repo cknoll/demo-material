{
 "cells": [
  {
   "cell_type": "markdown",
   "metadata": {},
   "source": [
    "This notebook demonstrates my (not yet successful) attempt to use [WikibaseIntegrator](https://github.com/LeMyst/WikibaseIntegrator/) to anonymously read from wikidata."
   ]
  },
  {
   "cell_type": "code",
   "execution_count": 1,
   "metadata": {},
   "outputs": [
    {
     "name": "stdout",
     "output_type": "stream",
     "text": [
      "<class 'requests.exceptions.JSONDecodeError'>\n",
      "This was the response:\n",
      "\n",
      "<!DOCTYPE html>\n",
      "<html class=\"client-nojs\" lang=\"en\" dir=\"ltr\">\n",
      "<head>\n",
      "<meta charset=\"UTF-8\"/>\n",
      "<title>MediaWiki API help - Wikidata</title>\n",
      "<script>document.documentElement.className=\"client-js\";RLCONF...\n"
     ]
    }
   ],
   "source": [
    "from wikibaseintegrator import WikibaseIntegrator, wbi_config\n",
    "\n",
    "wbi_config.config['MEDIAWIKI_API_URL'] = \"https://www.wikidata.org/w/api.php\"\n",
    "wbi_config.config[\"USER_AGENT\"] = \"test_bot\"\n",
    "\n",
    "# create WikibaseIntegrator instance without passing login -> should be annonymous\n",
    "wbi_wikidata = WikibaseIntegrator()\n",
    "\n",
    "# this fails (the request returns the same (page \"MediaWiki API help\")\n",
    "# as if the browser would send a get request to the api url)\n",
    "try:\n",
    "    res = wbi_wikidata.item.get(\"Q42\", allow_anonymous=True)\n",
    "except Exception as ex:\n",
    "    print(type(ex))\n",
    "    print(f\"This was the response:\\n\\n{ex.args[1][:200]}...\")"
   ]
  }
 ],
 "metadata": {
  "kernelspec": {
   "display_name": "Python 3",
   "language": "python",
   "name": "python3"
  },
  "language_info": {
   "codemirror_mode": {
    "name": "ipython",
    "version": 3
   },
   "file_extension": ".py",
   "mimetype": "text/x-python",
   "name": "python",
   "nbconvert_exporter": "python",
   "pygments_lexer": "ipython3",
   "version": "3.8.6"
  }
 },
 "nbformat": 4,
 "nbformat_minor": 4
}
