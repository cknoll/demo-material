{
 "cells": [
  {
   "cell_type": "code",
   "execution_count": 1,
   "metadata": {},
   "outputs": [
    {
     "name": "stdout",
     "output_type": "stream",
     "text": [
      "Fri Feb 25 17:09:17 2022\n"
     ]
    }
   ],
   "source": [
    "import time\n",
    "print(time.ctime())\n",
    "%load_ext ipydex.displaytools"
   ]
  },
  {
   "cell_type": "markdown",
   "metadata": {},
   "source": [
    "This notebook contains an answer to a [question on stackoverflow](https://stackoverflow.com/questions/71266315/how-to-make-sympy-only-solve-the-real-results-when-solve-higher-order-equations?noredirect=1#comment125973419_71266315). The author would be glad about some feedback:"
   ]
  },
  {
   "cell_type": "code",
   "execution_count": 9,
   "metadata": {},
   "outputs": [],
   "source": [
    "contact = 'ed:nedserd-ut llonk.netsrac'[::-1].replace(\" \", \"@\")\n",
    "# print(contact)"
   ]
  },
  {
   "cell_type": "code",
   "execution_count": 2,
   "metadata": {},
   "outputs": [],
   "source": [
    "from sympy import *\n",
    "from sympy.solvers.solveset import nonlinsolve\n",
    "\n",
    "import sympy as sp\n",
    "\n",
    "def clean_numbers(expr):\n",
    "    \n",
    "    numbers = expr.atoms(sp.Number)\n",
    "    rplmts = [(n, sp.Rational(n)) for n in numbers]\n",
    "    return expr.subs(rplmts)\n",
    "\n",
    "\n",
    "h_0 = 170\n",
    "b = 120\n",
    "Es = 205\n",
    "h = 200\n",
    "M = 19760400\n",
    "fc = 83\n",
    "fy = 585\n",
    "\n",
    "\n",
    "Ec_f, As_f, ft_f = (42.4, 226, 3)\n",
    "vp_c, vp_s, x_n = xx = symbols('vp_c, vp_s, x_n', real=True)\n",
    "\n",
    "f1 = vp_c * (h_0 - x_n) - x_n * vp_s # ← converted to a polynomial equation\n",
    "\n",
    "f2 = 1 / 2 * Ec_f * vp_c * b * x_n - As_f * Es * vp_s - ft_f * b * (h - x_n)\n",
    "f3 = M - As_f * Es * vp_s * (h_0 - x_n / 3) - ft_f * b * (h - x_n) * (h / 2 + x_n / 6)\n",
    "\n",
    "ff = clean_numbers(Matrix([f1, f2, f3]).expand())"
   ]
  },
  {
   "cell_type": "code",
   "execution_count": 3,
   "metadata": {},
   "outputs": [
    {
     "data": {
      "text/latex": [
       "ff2 := $\\displaystyle \\left[\\begin{matrix}vp_{c} - \\frac{1209393 x_{n}^{3}}{26678185831300} - \\frac{47226832281 x_{n}^{2}}{2262310158494240} - \\frac{208602595053 x_{n}}{24590327809720} - \\frac{11012927625}{24415175464}\\\\vp_{s} - \\frac{5724 x_{n}^{3}}{392326262225} - \\frac{2208627 x_{n}^{2}}{156930504890} - \\frac{20265354 x_{n}}{3411532715} - \\frac{25600972662}{15693050489}\\\\x_{n}^{4} + \\frac{192765 x_{n}^{3}}{424} + \\frac{38473005 x_{n}^{2}}{212} + \\frac{1132652675 x_{n}}{106} - \\frac{67823066125}{53}\\end{matrix}\\right]$"
      ],
      "text/plain": [
       "ff2 := Matrix([\n",
       "[vp_c - 1209393*x_n**3/26678185831300 - 47226832281*x_n**2/2262310158494240 - 208602595053*x_n/24590327809720 - 11012927625/24415175464],\n",
       "[                     vp_s - 5724*x_n**3/392326262225 - 2208627*x_n**2/156930504890 - 20265354*x_n/3411532715 - 25600972662/15693050489],\n",
       "[                                                x_n**4 + 192765*x_n**3/424 + 38473005*x_n**2/212 + 1132652675*x_n/106 - 67823066125/53]])"
      ]
     },
     "metadata": {},
     "output_type": "display_data"
    },
    {
     "data": {
      "text/plain": [
       "---"
      ]
     },
     "metadata": {},
     "output_type": "display_data"
    }
   ],
   "source": [
    "# reformulate the polynomial equations in terms of a groebner basis\n",
    "# this set of equations has the same set of solutions but is described by different (often easier) equations\n",
    "# note that this description depends on the (lexical) order of the variables\n",
    "gb = groebner(ff, xx, order=\"lex\")\n",
    "\n",
    "# convert to matrix for easier access\n",
    "ff2 = Matrix(gb.args[0]) ##:"
   ]
  },
  {
   "cell_type": "code",
   "execution_count": 4,
   "metadata": {},
   "outputs": [],
   "source": [
    "# solve the last equation (only depends on one variable)\n",
    "\n",
    "sol2 = solve(ff2[-1], xx[-1]) ##"
   ]
  },
  {
   "cell_type": "code",
   "execution_count": 5,
   "metadata": {},
   "outputs": [],
   "source": [
    "sol = []\n",
    "for s in sol2:\n",
    "    \n",
    "    tmp_eqns = ff2[:2, :].subs(xx[-1], s.evalf())\n",
    "    tmp_sol = solve(tmp_eqns, xx[:2]) # → dict\n",
    "    tmp_sol[xx[-1]] =  s.evalf()\n",
    "    sol.append(tmp_sol)\n",
    "   "
   ]
  },
  {
   "cell_type": "code",
   "execution_count": 6,
   "metadata": {},
   "outputs": [
    {
     "name": "stdout",
     "output_type": "stream",
     "text": [
      "[{vp_c: 1.00656308634739, vp_s: 2.01548035330581, x_n: 56.6225231688573}, {vp_c: -0.469378305833599, vp_s: 1.02614290514871, x_n: -143.317861965125}]\n"
     ]
    }
   ],
   "source": [
    "print(sol)"
   ]
  }
 ],
 "metadata": {
  "kernelspec": {
   "display_name": "Python 3",
   "language": "python",
   "name": "python3"
  },
  "language_info": {
   "codemirror_mode": {
    "name": "ipython",
    "version": 3
   },
   "file_extension": ".py",
   "mimetype": "text/x-python",
   "name": "python",
   "nbconvert_exporter": "python",
   "pygments_lexer": "ipython3",
   "version": "3.8.6"
  }
 },
 "nbformat": 4,
 "nbformat_minor": 4
}
